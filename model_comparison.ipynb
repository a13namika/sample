import nltk
import evaluate
from nltk.translate.bleu_score import sentence_bleu

# Load BLEU and ROUGE evaluators
rouge = evaluate.load("rouge")
nltk.download("punkt")

# Sample text outputs (replace with actual outputs from chatbot)
gpt2_output = "Artificial intelligence is a field of study that focuses on creating machines that can mimic human intelligence..."
mistral_output = "The field of artificial intelligence has seen rapid advancements, leading to innovations in various industries..."
llama_output = "AI, or artificial intelligence, is revolutionizing technology by enabling machines to learn from data..."

reference = ["Artificial intelligence is the simulation of human intelligence processes by machines, especially computer systems."]

# Compute BLEU scores
print("\n=== BLEU Scores ===")
print("GPT-2 BLEU Score:", sentence_bleu([reference], gpt2_output.split()))
print("Mistral 7B BLEU Score:", sentence_bleu([reference], mistral_output.split()))
print("LLaMA 2 BLEU Score:", sentence_bleu([reference], llama_output.split()))

# Compute ROUGE scores
print("\n=== ROUGE Scores ===")
rouge_scores = rouge.compute(predictions=[gpt2_output, mistral_output, llama_output], references=[reference * 3])
print(rouge_scores)
